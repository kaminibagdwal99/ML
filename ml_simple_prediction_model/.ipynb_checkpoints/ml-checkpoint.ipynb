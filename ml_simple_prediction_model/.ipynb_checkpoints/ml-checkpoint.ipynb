{
 "cells": [
  {
   "cell_type": "code",
   "execution_count": 10,
   "id": "6ac38c74-f189-4dc7-8481-fbae8af59897",
   "metadata": {},
   "outputs": [
    {
     "name": "stderr",
     "output_type": "stream",
     "text": [
      "/home/kaminibagdwal/.local/lib/python3.8/site-packages/sklearn/base.py:464: UserWarning: X does not have valid feature names, but DecisionTreeClassifier was fitted with feature names\n",
      "  warnings.warn(\n"
     ]
    },
    {
     "data": {
      "text/plain": [
       "array(['HipHop', 'Dance'], dtype=object)"
      ]
     },
     "execution_count": 10,
     "metadata": {},
     "output_type": "execute_result"
    }
   ],
   "source": [
    "\n",
    "\n",
    "import pandas as pd\n",
    "# importing data\n",
    "df=pd.read_csv('music.csv')\n",
    "from sklearn.tree import DecisionTreeClassifier\n",
    "\n",
    "#  Split the data into training/ test series\n",
    "\n",
    "x = df.drop(columns =['genre'])\n",
    "y = df['genre']\n",
    " # creating a model\n",
    "model = DecisionTreeClassifier()\n",
    "# traing a model\n",
    "model.fit(x,y)\n",
    "# making predictions\n",
    "predictions = model.predict([[21,1],[22,0]])\n",
    "predictions"
   ]
  },
  {
   "cell_type": "code",
   "execution_count": 53,
   "id": "afd8a893-a157-42b9-88e0-91c29398c01e",
   "metadata": {},
   "outputs": [
    {
     "data": {
      "text/plain": [
       "0.4"
      ]
     },
     "execution_count": 53,
     "metadata": {},
     "output_type": "execute_result"
    }
   ],
   "source": [
    "# checking accuracy\n",
    "import pandas as pd\n",
    "df=pd.read_csv('music.csv')\n",
    "from sklearn.tree import DecisionTreeClassifier\n",
    "from sklearn.model_selection import train_test_split\n",
    "from sklearn.metrics import accuracy_score\n",
    "\n",
    "x = df.drop(columns =['genre'])\n",
    "y = df['genre']\n",
    "\n",
    "x_train, x_test,y_train,y_test = train_test_split(x,y,test_size=.8)\n",
    "\n",
    "model = DecisionTreeClassifier()\n",
    "model.fit(x_train,y_train)\n",
    "predictions = model.predict(x_test)\n",
    "accuracy_score(y_test,predictions)\n"
   ]
  },
  {
   "cell_type": "code",
   "execution_count": 63,
   "id": "b9db650c-f5b2-4baf-b17f-f851f9817324",
   "metadata": {},
   "outputs": [
    {
     "data": {
      "text/plain": [
       "['music-recommeded.joblib']"
      ]
     },
     "execution_count": 63,
     "metadata": {},
     "output_type": "execute_result"
    }
   ],
   "source": [
    "# saving a model\n",
    "\n",
    "df=pd.read_csv('music.csv')\n",
    "from sklearn.tree import DecisionTreeClassifier\n",
    "import joblib\n",
    "\n",
    "#  Split the data into training/ test series\n",
    "\n",
    "x = df.drop(columns =['genre'])\n",
    "y = df['genre']\n",
    " # creating a model\n",
    "model = DecisionTreeClassifier()\n",
    "# traing a model\n",
    "model.fit(x,y)\n",
    "# savins a model\n",
    "joblib.dump(model,\"music-recommeded.joblib\")"
   ]
  },
  {
   "cell_type": "code",
   "execution_count": 64,
   "id": "da2cd762-2ab1-4b53-a924-130380aeb5d8",
   "metadata": {},
   "outputs": [
    {
     "name": "stderr",
     "output_type": "stream",
     "text": [
      "/home/kaminibagdwal/.local/lib/python3.8/site-packages/sklearn/base.py:464: UserWarning: X does not have valid feature names, but DecisionTreeClassifier was fitted with feature names\n",
      "  warnings.warn(\n"
     ]
    },
    {
     "data": {
      "text/plain": [
       "array(['HipHop', 'Dance'], dtype=object)"
      ]
     },
     "execution_count": 64,
     "metadata": {},
     "output_type": "execute_result"
    }
   ],
   "source": [
    "# using a saved model and make prediction\n",
    "import joblib\n",
    "\n",
    "\n",
    "joblib.load(\"music-recommeded.joblib\")\n",
    "# making predictions\n",
    "predictions = model.predict([[21,1],[22,0]])\n",
    "predictions"
   ]
  },
  {
   "cell_type": "code",
   "execution_count": null,
   "id": "3783a6a8-8e64-4f6c-aff9-1f7226155e91",
   "metadata": {},
   "outputs": [],
   "source": []
  }
 ],
 "metadata": {
  "kernelspec": {
   "display_name": "Python 3 (ipykernel)",
   "language": "python",
   "name": "python3"
  },
  "language_info": {
   "codemirror_mode": {
    "name": "ipython",
    "version": 3
   },
   "file_extension": ".py",
   "mimetype": "text/x-python",
   "name": "python",
   "nbconvert_exporter": "python",
   "pygments_lexer": "ipython3",
   "version": "3.8.10"
  },
  "vscode": {
   "interpreter": {
    "hash": "916dbcbb3f70747c44a77c7bcd40155683ae19c65e1c03b4aa3499c5328201f1"
   }
  }
 },
 "nbformat": 4,
 "nbformat_minor": 5
}
